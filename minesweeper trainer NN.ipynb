{
 "cells": [
  {
   "metadata": {
    "ExecuteTime": {
     "end_time": "2024-11-16T00:19:08.773662Z",
     "start_time": "2024-11-16T00:19:08.755153Z"
    }
   },
   "cell_type": "code",
   "source": [
    "import numpy as np\n",
    "import tensorflow as tf\n",
    "from tensorflow.keras.models import Sequential\n",
    "from tensorflow.keras.layers import Dense, Flatten, Reshape\n",
    "import os\n",
    "import matplotlib.pyplot as plt"
   ],
   "id": "34d8b4e312434a02",
   "outputs": [],
   "execution_count": 48
  },
  {
   "metadata": {
    "ExecuteTime": {
     "end_time": "2024-11-16T00:19:08.944173Z",
     "start_time": "2024-11-16T00:19:08.931171Z"
    }
   },
   "cell_type": "code",
   "source": [
    "gpus = tf.config.list_physical_devices('GPU')\n",
    "\n",
    "if len(gpus) > 0:\n",
    "    print(\"TensorFlow is using the following GPU(s):\")\n",
    "    for gpu in gpus:\n",
    "        print(f\"- {gpu.name}\")\n",
    "else:\n",
    "    print(\"No GPUs detected. TensorFlow is running on CPU.\")"
   ],
   "id": "bb248a0847fe6597",
   "outputs": [
    {
     "name": "stdout",
     "output_type": "stream",
     "text": [
      "TensorFlow is using the following GPU(s):\n",
      "- /physical_device:GPU:0\n"
     ]
    }
   ],
   "execution_count": 49
  },
  {
   "metadata": {
    "ExecuteTime": {
     "end_time": "2024-11-16T00:19:09.352218Z",
     "start_time": "2024-11-16T00:19:09.062688Z"
    }
   },
   "cell_type": "code",
   "source": [
    "def load_file(board_file, labels_file):\n",
    "    with open(board_file, 'r') as f:\n",
    "        board = []\n",
    "        for line in f:\n",
    "            row = []\n",
    "            for cell in line.strip().split(\" \"):\n",
    "                if cell == '-':\n",
    "                    row.append(9)\n",
    "                elif cell == 'F':\n",
    "                    row.append(-1)\n",
    "                else:\n",
    "                    try:\n",
    "                        row.append(int(cell))\n",
    "                    except ValueError:\n",
    "                        continue\n",
    "            board.append(row)\n",
    "\n",
    "    board = np.array(board)\n",
    "\n",
    "    labels = []\n",
    "    with open(labels_file, 'r') as f:\n",
    "        for line in f:\n",
    "            row = []\n",
    "            for cell in line.strip().split(\" \"):\n",
    "                row.append(int(cell) + 1)\n",
    "            labels.append(row)\n",
    "\n",
    "    labels = np.array(labels)\n",
    "    return board, labels\n",
    "\n",
    "data_dir = \"data 16x30\"\n",
    "labels_dir = \"labels 16x30\"\n",
    "X = []\n",
    "y = []\n",
    "\n",
    "data_files = sorted(os.listdir(data_dir))\n",
    "label_files = sorted(os.listdir(labels_dir))\n",
    "\n",
    "if len(data_files) != len(label_files):\n",
    "    raise ValueError(\"The number of data files does not match the number of label files.\")\n",
    "\n",
    "for data_file, label_file in zip(data_files, label_files):\n",
    "    board, labels = load_file(f\"{data_dir}\\\\{data_file}\", f\"{labels_dir}\\\\{label_file}\")\n",
    "    X.append(board)\n",
    "    y.append(labels)\n",
    "\n",
    "X = np.array(X)\n",
    "y = np.array(y)\n",
    "print(X[0])\n",
    "print(y[0])"
   ],
   "id": "8a1dd8617db69d90",
   "outputs": [
    {
     "name": "stdout",
     "output_type": "stream",
     "text": [
      "[[ 0  0  0  0  0  0  0  0  0  0  0  0  0  0  1 -1 -1  2 -1 -1  2  1  1  9\n",
      "   9  9  9  9  9  9]\n",
      " [ 0  0  0  0  0  0  0  0  0  0  0  0  1  1  3  3  4  3  3  3 -1  1  1  9\n",
      "   9  9  9  9  9  9]\n",
      " [ 0  0  0  0  0  1  1  1  0  0  1  1  2 -1  3 -1  3 -1  1  1  1  2  2  9\n",
      "   9  9  9  9  9  9]\n",
      " [ 0  1  1  2  1  2 -1  2  2  2  3 -1  3  2  3 -1  4  2  2  0  0  1 -1  3\n",
      "   2  9  9  9  9  9]\n",
      " [ 0  1 -1  3 -1  3  3 -1  3 -1 -1  3 -1  2  2  3  3 -1  1  0  0  2  2  4\n",
      "  -1  9  9  9  9  9]\n",
      " [ 1  2  2  4 -1  2  2 -1  3  2  2  3  2  3 -1  2 -1  2  1  0  0  1 -1  4\n",
      "  -1  4  2  9  9  9]\n",
      " [ 9  9  9  9  3  2  2  1  1  0  0  1 -1  2  1  2  1  2  1  1  0  1  1  3\n",
      "  -1  3  3  9  9  9]\n",
      " [ 9  9  9  9  2 -1  2  1  2  1  1  2  2  2  0  0  0  2 -1  4  2  1  0  1\n",
      "   2  3 -1 -1  9  9]\n",
      " [ 9  9  9  9  9  2  3 -1  3 -1  1  1 -1  1  0  1  1  3 -1 -1 -1  2  0  0\n",
      "   1 -1  4 -1  9  9]\n",
      " [ 9  9  9  9  9  1  2 -1  3  2  2  2  2  2  1  2 -1  3  4 -1 -1  3  1  0\n",
      "   1  1  2  3  9  9]\n",
      " [ 9  9  9  9  9  2  3  2  2  1 -1  1  2 -1  3  4 -1  3  2 -1  4 -1  2  1\n",
      "   0  0  0  2  9  9]\n",
      " [ 9  9  9  9  9 -1  2 -1  1  2  3  3  3 -1 -1  3 -1  2  1  1  2  2 -1  1\n",
      "   1  1  1  1  9  9]\n",
      " [ 9  9  9  9  9  3  3  2  1  2 -1 -1  2  2  2  2  2  2  1  0  0  1  1  2\n",
      "   3 -1  2  1  9  9]\n",
      " [ 9  9  9  9  9  2 -1  2  1  4 -1  4  1  0  0  0  1 -1  1  0  0  0  1  3\n",
      "  -1 -1  3  3  9  9]\n",
      " [ 9  9  9  9  9  9  9  9  9  9 -1  3  1  2  2  2  2  3  2  1  1  1  3 -1\n",
      "  -1  9  9  9  9  9]\n",
      " [ 9  9  9  9  9  9  9  9  9  9  9  9  9  9  9  9  9  9  9  9  9  9  9  9\n",
      "   9  9  9  9  9  9]]\n",
      "[[1 1 1 1 1 1 1 1 1 1 1 1 1 1 2 0 0 3 0 0 3 2 2 2 3 0 0 2 1 1]\n",
      " [1 1 1 1 1 1 1 1 1 1 1 1 2 2 4 4 5 4 4 4 0 2 2 0 4 4 3 2 1 1]\n",
      " [1 1 1 1 1 2 2 2 1 1 2 2 3 0 4 0 4 0 2 2 2 3 3 4 0 3 2 2 1 1]\n",
      " [1 2 2 3 2 3 0 3 3 3 4 0 4 3 4 0 5 3 3 1 1 2 0 4 3 5 0 3 1 1]\n",
      " [1 2 0 4 0 4 4 0 4 0 0 4 0 3 3 4 4 0 2 1 1 3 3 5 0 5 0 3 1 1]\n",
      " [2 3 3 5 0 3 3 0 4 3 3 4 3 4 0 3 0 3 2 1 1 2 0 5 0 5 3 3 3 2]\n",
      " [0 3 2 0 4 3 3 2 2 1 1 2 0 3 2 3 2 3 2 2 1 2 2 4 0 4 4 0 4 0]\n",
      " [0 3 2 2 3 0 3 2 3 2 2 3 3 3 1 1 1 3 0 5 3 2 1 2 3 4 0 0 5 2]\n",
      " [2 2 1 2 3 3 4 0 4 0 2 2 0 2 1 2 2 4 0 0 0 3 1 1 2 0 5 0 4 2]\n",
      " [1 1 1 2 0 2 3 0 4 3 3 3 3 3 2 3 0 4 5 0 0 4 2 1 2 2 3 4 0 3]\n",
      " [1 1 1 2 3 3 4 3 3 2 0 2 3 0 4 5 0 4 3 0 5 0 3 2 1 1 1 3 0 3]\n",
      " [2 2 1 2 3 0 3 0 2 3 4 4 4 0 0 4 0 3 2 2 3 3 0 2 2 2 2 2 3 3]\n",
      " [0 2 2 3 0 4 4 3 2 3 0 0 3 3 3 3 3 3 2 1 1 2 2 3 4 0 3 2 3 0]\n",
      " [2 2 3 0 4 3 0 3 2 5 0 5 2 1 1 1 2 0 2 1 1 1 2 4 0 0 4 4 0 4]\n",
      " [2 2 4 0 3 2 2 3 0 6 0 4 2 3 3 3 3 4 3 2 2 2 4 0 0 6 0 5 0 3]\n",
      " [2 0 3 2 2 1 1 2 3 0 0 3 2 0 0 3 0 3 0 2 2 0 4 0 4 4 0 4 2 2]]\n"
     ]
    }
   ],
   "execution_count": 50
  },
  {
   "metadata": {
    "ExecuteTime": {
     "end_time": "2024-11-16T00:19:09.430736Z",
     "start_time": "2024-11-16T00:19:09.421737Z"
    }
   },
   "cell_type": "code",
   "source": [
    "X_reshaped = []\n",
    "for board in X:\n",
    "    board_reshaped = board.reshape(board.shape[0], board.shape[1], 1)\n",
    "    X_reshaped.append(board_reshaped)\n",
    "    \n",
    "X_reshaped = np.array(X_reshaped)\n",
    "\n",
    "y_reshaped = []\n",
    "\n",
    "for labels in y:\n",
    "    labels_reshaped = labels.reshape(labels.shape[0], labels.shape[1], 1)\n",
    "    y_reshaped.append(labels_reshaped)\n",
    "\n",
    "y_reshaped = np.array(y_reshaped)\n",
    "\n",
    "X, y = X_reshaped, y_reshaped\n",
    "input_shape = (X.shape[1], X.shape[2], X.shape[3])\n",
    "print(X.shape, y.shape)"
   ],
   "id": "993bc98caaeaa52a",
   "outputs": [
    {
     "name": "stdout",
     "output_type": "stream",
     "text": [
      "(998, 16, 30, 1) (998, 16, 30, 1)\n"
     ]
    }
   ],
   "execution_count": 51
  },
  {
   "metadata": {
    "ExecuteTime": {
     "end_time": "2024-11-16T00:20:32.187475Z",
     "start_time": "2024-11-16T00:20:32.143472Z"
    }
   },
   "cell_type": "code",
   "source": [
    "model = Sequential()\n",
    "\n",
    "model.add(Flatten(input_shape=input_shape))\n",
    "\n",
    "model.add(Dense(512, activation='relu'))\n",
    "model.add(Dense(256, activation='relu'))\n",
    "model.add(Dense(128, activation='relu'))\n",
    "\n",
    "model.add(Dense(input_shape[0] * input_shape[1], activation='sigmoid'))\n",
    "\n",
    "model.add(Reshape((input_shape[0], input_shape[1])))\n",
    "\n",
    "model.compile(optimizer='adam', loss='binary_crossentropy', metrics=['binary_accuracy'])\n",
    "\n",
    "# model.summary()"
   ],
   "id": "9135bdc8387d84f8",
   "outputs": [],
   "execution_count": 61
  },
  {
   "metadata": {
    "ExecuteTime": {
     "end_time": "2024-11-16T00:20:33.527645Z",
     "start_time": "2024-11-16T00:20:32.291987Z"
    }
   },
   "cell_type": "code",
   "source": "model.fit(X, y, epochs=10, batch_size=32, validation_split=0.2)",
   "id": "c6f2dbef0f491b20",
   "outputs": [
    {
     "name": "stdout",
     "output_type": "stream",
     "text": [
      "Epoch 1/10\n",
      "25/25 [==============================] - 0s 8ms/step - loss: -10.3194 - binary_accuracy: 0.1557 - val_loss: -15.2220 - val_binary_accuracy: 0.1478\n",
      "Epoch 2/10\n",
      "25/25 [==============================] - 0s 4ms/step - loss: -15.2783 - binary_accuracy: 0.1496 - val_loss: -15.3309 - val_binary_accuracy: 0.1475\n",
      "Epoch 3/10\n",
      "25/25 [==============================] - 0s 3ms/step - loss: -15.3107 - binary_accuracy: 0.1495 - val_loss: -15.3309 - val_binary_accuracy: 0.1475\n",
      "Epoch 4/10\n",
      "25/25 [==============================] - 0s 3ms/step - loss: -15.3107 - binary_accuracy: 0.1495 - val_loss: -15.3309 - val_binary_accuracy: 0.1475\n",
      "Epoch 5/10\n",
      "25/25 [==============================] - 0s 3ms/step - loss: -15.3107 - binary_accuracy: 0.1495 - val_loss: -15.3309 - val_binary_accuracy: 0.1475\n",
      "Epoch 6/10\n",
      "25/25 [==============================] - 0s 3ms/step - loss: -15.3107 - binary_accuracy: 0.1495 - val_loss: -15.3309 - val_binary_accuracy: 0.1475\n",
      "Epoch 7/10\n",
      "25/25 [==============================] - 0s 3ms/step - loss: -15.3107 - binary_accuracy: 0.1495 - val_loss: -15.3309 - val_binary_accuracy: 0.1475\n",
      "Epoch 8/10\n",
      "25/25 [==============================] - 0s 3ms/step - loss: -15.3107 - binary_accuracy: 0.1495 - val_loss: -15.3309 - val_binary_accuracy: 0.1475\n",
      "Epoch 9/10\n",
      "25/25 [==============================] - 0s 3ms/step - loss: -15.3107 - binary_accuracy: 0.1495 - val_loss: -15.3309 - val_binary_accuracy: 0.1475\n",
      "Epoch 10/10\n",
      "25/25 [==============================] - 0s 3ms/step - loss: -15.3107 - binary_accuracy: 0.1495 - val_loss: -15.3309 - val_binary_accuracy: 0.1475\n"
     ]
    },
    {
     "data": {
      "text/plain": [
       "<keras.callbacks.History at 0x17a29bf3cd0>"
      ]
     },
     "execution_count": 62,
     "metadata": {},
     "output_type": "execute_result"
    }
   ],
   "execution_count": 62
  },
  {
   "metadata": {
    "ExecuteTime": {
     "end_time": "2024-11-16T00:19:47.652790700Z",
     "start_time": "2024-11-16T00:19:19.876184Z"
    }
   },
   "cell_type": "code",
   "source": [
    "def test_model_on_board(model, board):\n",
    "    board = np.expand_dims(board, axis=0)\n",
    "    prediction = model.predict(board)\n",
    "    predicted_probabilities = prediction[0]\n",
    "    \n",
    "    plt.figure(figsize=(6, 6))\n",
    "    plt.title(f\"Board - Predicted Mine Probabilities\")\n",
    "    plt.imshow(predicted_probabilities, cmap='hot', interpolation='nearest')\n",
    "    plt.colorbar(label='Mine Probability')\n",
    "    plt.show()\n",
    "\n",
    "test_model_on_board(model, X[0])"
   ],
   "id": "52dd576a227cfd87",
   "outputs": [
    {
     "name": "stdout",
     "output_type": "stream",
     "text": [
      "WARNING:tensorflow:5 out of the last 5 calls to <function Model.make_predict_function.<locals>.predict_function at 0x0000017A2BF000D0> triggered tf.function retracing. Tracing is expensive and the excessive number of tracings could be due to (1) creating @tf.function repeatedly in a loop, (2) passing tensors with different shapes, (3) passing Python objects instead of tensors. For (1), please define your @tf.function outside of the loop. For (2), @tf.function has reduce_retracing=True option that can avoid unnecessary retracing. For (3), please refer to https://www.tensorflow.org/guide/function#controlling_retracing and https://www.tensorflow.org/api_docs/python/tf/function for  more details.\n",
      "1/1 [==============================] - 0s 53ms/step\n"
     ]
    },
    {
     "data": {
      "text/plain": [
       "<Figure size 600x600 with 2 Axes>"
      ],
      "image/png": "[encoded data removed]"
     },
     "metadata": {},
     "output_type": "display_data"
    }
   ],
   "execution_count": 54
  }
 ],
 "metadata": {
  "kernelspec": {
   "display_name": "py310",
   "language": "python",
   "name": "python3"
  },
  "language_info": {
   "codemirror_mode": {
    "name": "ipython",
    "version": 3
   },
   "file_extension": ".py",
   "mimetype": "text/x-python",
   "name": "python",
   "nbconvert_exporter": "python",
   "pygments_lexer": "ipython3",
   "version": "3.10.14"
  }
 },
 "nbformat": 4,
 "nbformat_minor": 5
}
