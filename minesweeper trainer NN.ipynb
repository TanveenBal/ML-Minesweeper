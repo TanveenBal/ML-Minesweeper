{
 "cells": [
  {
   "metadata": {
    "ExecuteTime": {
     "end_time": "2024-11-17T08:46:22.400320Z",
     "start_time": "2024-11-17T08:46:17.574534Z"
    }
   },
   "cell_type": "code",
   "source": [
    "import numpy as np\n",
    "import tensorflow as tf\n",
    "from tensorflow.keras.models import Sequential\n",
    "from tensorflow.keras.layers import Dense, Flatten, Reshape\n",
    "import os\n",
    "import matplotlib.pyplot as plt"
   ],
   "id": "34d8b4e312434a02",
   "outputs": [],
   "execution_count": 1
  },
  {
   "metadata": {
    "ExecuteTime": {
     "end_time": "2024-11-17T08:46:23.399718Z",
     "start_time": "2024-11-17T08:46:22.420320Z"
    }
   },
   "cell_type": "code",
   "source": [
    "gpus = tf.config.list_physical_devices('GPU')\n",
    "\n",
    "if len(gpus) > 0:\n",
    "    print(\"TensorFlow is using the following GPU(s):\")\n",
    "    for gpu in gpus:\n",
    "        print(f\"- {gpu.name}\")\n",
    "else:\n",
    "    print(\"No GPUs detected. TensorFlow is running on CPU.\")"
   ],
   "id": "bb248a0847fe6597",
   "outputs": [
    {
     "name": "stdout",
     "output_type": "stream",
     "text": [
      "TensorFlow is using the following GPU(s):\n",
      "- /physical_device:GPU:0\n"
     ]
    }
   ],
   "execution_count": 2
  },
  {
   "metadata": {
    "ExecuteTime": {
     "end_time": "2024-11-17T10:54:59.068352Z",
     "start_time": "2024-11-17T10:54:49.228426Z"
    }
   },
   "cell_type": "code",
   "source": [
    "def load_file(board_file, labels_file):\n",
    "    with open(board_file, 'r') as f:\n",
    "        board = []\n",
    "        for line in f:\n",
    "            row = []\n",
    "            for cell in line.strip().split(\" \"):\n",
    "                if cell == '-':\n",
    "                    row.append(0)\n",
    "                elif cell == 'F':\n",
    "                    row.append(1)\n",
    "                else:\n",
    "                    try:\n",
    "                        row.append(int(cell) + 2)\n",
    "                    except ValueError:\n",
    "                        continue\n",
    "            board.append(row)\n",
    "\n",
    "    board = np.array(board)\n",
    "\n",
    "    labels = []\n",
    "    with open(labels_file, 'r') as f:\n",
    "        for line in f:\n",
    "            row = []\n",
    "            for cell in line.strip().split(\" \"):\n",
    "                row.append(int(cell))\n",
    "            labels.append(row)\n",
    "\n",
    "    labels = np.array(labels)\n",
    "    return board, labels\n",
    "\n",
    "data_dir = \"data 8x8\"\n",
    "labels_dir = \"labels 8x8\"\n",
    "X = []\n",
    "y = []\n",
    "\n",
    "data_files = sorted(os.listdir(data_dir))\n",
    "label_files = sorted(os.listdir(labels_dir))\n",
    "\n",
    "if len(data_files) != len(label_files):\n",
    "    raise ValueError(\"The number of data files does not match the number of label files.\")\n",
    "\n",
    "for data_file, label_file in zip(data_files, label_files):\n",
    "    board, labels = load_file(f\"{data_dir}\\\\{data_file}\", f\"{labels_dir}\\\\{label_file}\")\n",
    "    X.append(board)\n",
    "    y.append(labels)\n",
    "\n",
    "X = np.array(X)\n",
    "y = np.array(y)\n",
    "print(X[0])\n",
    "print(y[0])"
   ],
   "id": "8a1dd8617db69d90",
   "outputs": [
    {
     "name": "stdout",
     "output_type": "stream",
     "text": [
      "[[0 0 0 0 0 0 0 0]\n",
      " [0 3 3 4 3 3 0 0]\n",
      " [0 3 2 2 2 3 0 0]\n",
      " [0 3 2 2 2 3 0 0]\n",
      " [0 5 3 3 2 3 0 0]\n",
      " [0 5 1 5 4 4 0 0]\n",
      " [0 0 0 0 0 0 0 0]\n",
      " [0 0 0 0 0 0 0 0]]\n",
      "[[1 0 1 0 0 1 0 1]\n",
      " [0 0 0 0 0 0 0 0]\n",
      " [0 0 0 0 0 0 0 0]\n",
      " [1 1 1 0 0 0 0 0]\n",
      " [0 0 0 0 0 0 0 0]\n",
      " [0 0 0 0 0 0 0 0]\n",
      " [1 0 0 0 1 0 1 0]\n",
      " [0 0 0 0 0 0 0 0]]\n"
     ]
    }
   ],
   "execution_count": 34
  },
  {
   "metadata": {
    "ExecuteTime": {
     "end_time": "2024-11-17T10:54:59.145868Z",
     "start_time": "2024-11-17T10:54:59.139869Z"
    }
   },
   "cell_type": "code",
   "source": [
    "input_shape = (X.shape[1], X.shape[2])\n",
    "print(X.shape, y.shape)"
   ],
   "id": "993bc98caaeaa52a",
   "outputs": [
    {
     "name": "stdout",
     "output_type": "stream",
     "text": [
      "(69995, 8, 8) (69995, 8, 8)\n"
     ]
    }
   ],
   "execution_count": 35
  },
  {
   "metadata": {
    "ExecuteTime": {
     "end_time": "2024-11-17T10:54:59.207866Z",
     "start_time": "2024-11-17T10:54:59.162866Z"
    }
   },
   "cell_type": "code",
   "source": [
    "model = Sequential()\n",
    "\n",
    "model.add(Flatten(input_shape=input_shape))\n",
    "\n",
    "model.add(Dense(512, activation='relu'))\n",
    "model.add(Dense(256, activation='relu'))\n",
    "model.add(Dense(128, activation='relu'))\n",
    "\n",
    "model.add(Dense(input_shape[0] * input_shape[1], activation='sigmoid'))\n",
    "\n",
    "model.add(Reshape((input_shape[0], input_shape[1])))\n",
    "\n",
    "model.compile(optimizer='adam', loss='binary_crossentropy', metrics=['binary_accuracy'])\n",
    "\n",
    "# model.summary()"
   ],
   "id": "9135bdc8387d84f8",
   "outputs": [],
   "execution_count": 36
  },
  {
   "metadata": {
    "ExecuteTime": {
     "end_time": "2024-11-17T10:55:40.743998Z",
     "start_time": "2024-11-17T10:54:59.318175Z"
    }
   },
   "cell_type": "code",
   "source": "model.fit(X, y, epochs=10, batch_size=32, validation_split=0.2)",
   "id": "c6f2dbef0f491b20",
   "outputs": [
    {
     "name": "stdout",
     "output_type": "stream",
     "text": [
      "Epoch 1/10\n",
      "1750/1750 [==============================] - 5s 3ms/step - loss: 0.3128 - binary_accuracy: 0.8746 - val_loss: 0.2795 - val_binary_accuracy: 0.8884\n",
      "Epoch 2/10\n",
      "1750/1750 [==============================] - 5s 3ms/step - loss: 0.2650 - binary_accuracy: 0.8955 - val_loss: 0.2624 - val_binary_accuracy: 0.8968\n",
      "Epoch 3/10\n",
      "1750/1750 [==============================] - 4s 2ms/step - loss: 0.2547 - binary_accuracy: 0.9003 - val_loss: 0.2552 - val_binary_accuracy: 0.9008\n",
      "Epoch 4/10\n",
      "1750/1750 [==============================] - 4s 2ms/step - loss: 0.2486 - binary_accuracy: 0.9031 - val_loss: 0.2535 - val_binary_accuracy: 0.9009\n",
      "Epoch 5/10\n",
      "1750/1750 [==============================] - 4s 2ms/step - loss: 0.2441 - binary_accuracy: 0.9050 - val_loss: 0.2529 - val_binary_accuracy: 0.9021\n",
      "Epoch 6/10\n",
      "1750/1750 [==============================] - 4s 2ms/step - loss: 0.2403 - binary_accuracy: 0.9066 - val_loss: 0.2472 - val_binary_accuracy: 0.9044\n",
      "Epoch 7/10\n",
      "1750/1750 [==============================] - 4s 2ms/step - loss: 0.2372 - binary_accuracy: 0.9081 - val_loss: 0.2437 - val_binary_accuracy: 0.9064\n",
      "Epoch 8/10\n",
      "1750/1750 [==============================] - 4s 2ms/step - loss: 0.2343 - binary_accuracy: 0.9092 - val_loss: 0.2416 - val_binary_accuracy: 0.9072\n",
      "Epoch 9/10\n",
      "1750/1750 [==============================] - 4s 2ms/step - loss: 0.2320 - binary_accuracy: 0.9104 - val_loss: 0.2420 - val_binary_accuracy: 0.9072\n",
      "Epoch 10/10\n",
      "1750/1750 [==============================] - 4s 2ms/step - loss: 0.2299 - binary_accuracy: 0.9112 - val_loss: 0.2424 - val_binary_accuracy: 0.9074\n"
     ]
    },
    {
     "data": {
      "text/plain": [
       "<keras.callbacks.History at 0x22d128178e0>"
      ]
     },
     "execution_count": 37,
     "metadata": {},
     "output_type": "execute_result"
    }
   ],
   "execution_count": 37
  },
  {
   "metadata": {
    "ExecuteTime": {
     "end_time": "2024-11-17T10:59:38.934429Z",
     "start_time": "2024-11-17T10:59:38.812918Z"
    }
   },
   "cell_type": "code",
   "source": [
    "def test_model_on_board(model, board):\n",
    "    board = np.expand_dims(board, axis=0) \n",
    "    prediction = model.predict(board) \n",
    "    predicted_probabilities = prediction[0]\n",
    "    max_cord = (0, 0)\n",
    "    max_prediction = 0\n",
    "    for row, predicted_row in enumerate(predicted_probabilities):\n",
    "        for col, predicted_cell in enumerate(predicted_row):\n",
    "            if predicted_cell > max_prediction:\n",
    "                max_prediction = predicted_cell\n",
    "                max_cord = (row + 1, col + 1)\n",
    "    print(max_cord)\n",
    "    print(max_prediction)\n",
    "    plt.figure(figsize=(6, 6))\n",
    "    plt.title(f\"Board - Predicted Mine Probabilities\")\n",
    "    plt.imshow(predicted_probabilities, cmap='hot', interpolation='nearest')\n",
    "    plt.colorbar(label='Mine Probability')\n",
    "    plt.show()\n",
    "\n",
    "board = 2\n",
    "test_model_on_board(model, X[board])\n",
    "print(X[board])\n",
    "print(y[board])"
   ],
   "id": "52dd576a227cfd87",
   "outputs": [
    {
     "name": "stdout",
     "output_type": "stream",
     "text": [
      "1/1 [==============================] - 0s 13ms/step\n",
      "(5, 4)\n",
      "0.99970394\n"
     ]
    },
    {
     "data": {
      "text/plain": [
       "<Figure size 600x600 with 2 Axes>"
      ],
      "image/png": "[encoded data removed]"
     },
     "metadata": {},
     "output_type": "display_data"
    },
    {
     "name": "stdout",
     "output_type": "stream",
     "text": [
      "[[0 0 3 2 3 3 4 3]\n",
      " [0 0 4 3 3 1 4 1]\n",
      " [3 4 1 3 3 3 4 3]\n",
      " [2 4 5 6 4 3 2 2]\n",
      " [2 3 1 1 1 5 4 3]\n",
      " [2 3 4 5 5 1 1 4]\n",
      " [2 2 2 2 3 5 0 0]\n",
      " [2 2 2 2 2 3 0 0]]\n",
      "[[1 0 0 0 0 0 0 1]\n",
      " [0 0 0 0 0 0 1 0]\n",
      " [0 0 1 0 0 0 1 0]\n",
      " [0 0 0 0 0 0 0 0]\n",
      " [1 1 0 0 0 0 0 0]\n",
      " [0 0 0 0 0 1 0 0]\n",
      " [0 0 0 0 0 1 1 0]\n",
      " [0 0 0 0 0 0 0 0]]\n"
     ]
    }
   ],
   "execution_count": 42
  },
  {
   "metadata": {
    "ExecuteTime": {
     "end_time": "2024-11-17T10:49:19.804862Z",
     "start_time": "2024-11-17T10:49:19.790862Z"
    }
   },
   "cell_type": "code",
   "source": "",
   "id": "86428c0cca6883c3",
   "outputs": [],
   "execution_count": null
  }
 ],
 "metadata": {
  "kernelspec": {
   "display_name": "py310",
   "language": "python",
   "name": "python3"
  },
  "language_info": {
   "codemirror_mode": {
    "name": "ipython",
    "version": 3
   },
   "file_extension": ".py",
   "mimetype": "text/x-python",
   "name": "python",
   "nbconvert_exporter": "python",
   "pygments_lexer": "ipython3",
   "version": "3.10.14"
  }
 },
 "nbformat": 4,
 "nbformat_minor": 5
}
