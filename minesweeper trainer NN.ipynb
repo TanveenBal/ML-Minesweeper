{
 "cells": [
  {
   "cell_type": "code",
   "execution_count": 1,
   "id": "34d8b4e312434a02",
   "metadata": {
    "ExecuteTime": {
     "end_time": "2024-11-17T08:46:22.400320Z",
     "start_time": "2024-11-17T08:46:17.574534Z"
    }
   },
   "outputs": [],
   "source": [
    "import numpy as np\n",
    "import tensorflow as tf\n",
    "from tensorflow.keras.models import Sequential\n",
    "from tensorflow.keras.layers import Dense, Flatten, Reshape\n",
    "import os\n",
    "import matplotlib.pyplot as plt"
   ]
  },
  {
   "cell_type": "code",
   "execution_count": 2,
   "id": "bb248a0847fe6597",
   "metadata": {
    "ExecuteTime": {
     "end_time": "2024-11-17T08:46:23.399718Z",
     "start_time": "2024-11-17T08:46:22.420320Z"
    }
   },
   "outputs": [
    {
     "name": "stdout",
     "output_type": "stream",
     "text": [
      "TensorFlow is using the following GPU(s):\n",
      "- /physical_device:GPU:0\n"
     ]
    }
   ],
   "source": [
    "gpus = tf.config.list_physical_devices('GPU')\n",
    "\n",
    "if len(gpus) > 0:\n",
    "    print(\"TensorFlow is using the following GPU(s):\")\n",
    "    for gpu in gpus:\n",
    "        print(f\"- {gpu.name}\")\n",
    "else:\n",
    "    print(\"No GPUs detected. TensorFlow is running on CPU.\")"
   ]
  },
  {
   "cell_type": "code",
   "execution_count": 3,
   "id": "8a1dd8617db69d90",
   "metadata": {
    "ExecuteTime": {
     "end_time": "2024-11-17T10:54:59.068352Z",
     "start_time": "2024-11-17T10:54:49.228426Z"
    }
   },
   "outputs": [],
   "source": [
    "def load_file(board_file, labels_file):\n",
    "    with open(board_file, 'r') as f:\n",
    "        board = []\n",
    "        for line in f:\n",
    "            row = []\n",
    "            for cell in line.strip().split(\" \"):\n",
    "                if cell == '-':\n",
    "                    row.append(0)\n",
    "                elif cell == 'F':\n",
    "                    row.append(1)\n",
    "                else:\n",
    "                    try:\n",
    "                        row.append(int(cell) + 2)\n",
    "                    except ValueError:\n",
    "                        continue\n",
    "            board.append(row)\n",
    "\n",
    "    board = np.array(board)\n",
    "\n",
    "    labels = []\n",
    "    with open(labels_file, 'r') as f:\n",
    "        for line in f:\n",
    "            row = []\n",
    "            for cell in line.strip().split(\" \"):\n",
    "                row.append(int(cell))\n",
    "            labels.append(row)\n",
    "\n",
    "    labels = np.array(labels)\n",
    "    return board, labels\n",
    "\n",
    "def create_dataset(data_dir, labels_dir):\n",
    "    data_files = sorted(os.listdir(data_dir))\n",
    "    label_files = sorted(os.listdir(labels_dir))\n",
    "\n",
    "    if len(data_files) != len(label_files):\n",
    "        raise ValueError(\"The number of data files does not match the number of label files.\")\n",
    "    \n",
    "    def generator():\n",
    "        for data_file, label_file in zip(data_files, label_files):\n",
    "            board, labels = load_file(os.path.join(data_dir, data_file), os.path.join(labels_dir, label_file))\n",
    "            yield board, labels\n",
    "    \n",
    "    with open(os.path.join(data_dir, data_files[0]), 'r') as f:\n",
    "        lines = f.readlines()\n",
    "        num_rows = len(lines)\n",
    "        num_cols = len(lines[0].split()) if num_rows > 0 else 0\n",
    "\n",
    "    dataset = tf.data.Dataset.from_generator(generator, output_signature=(\n",
    "        tf.TensorSpec(shape=(num_rows, num_cols), dtype=tf.int32),\n",
    "        tf.TensorSpec(shape=(num_rows, num_cols), dtype=tf.int32))\n",
    "    )\n",
    "\n",
    "    return dataset, (num_rows, num_cols)\n",
    "\n",
    "\n",
    "board_size = \"8x8\"\n",
    "data_dir = f\"data {board_size}\"\n",
    "labels_dir = f\"labels {board_size}\"\n",
    "dataset, input_shape = create_dataset(data_dir, labels_dir)\n"
   ]
  },
  {
   "cell_type": "code",
   "execution_count": 4,
   "id": "2a5775e3",
   "metadata": {},
   "outputs": [],
   "source": [
    "dataset_list = list(dataset)\n",
    "\n",
    "train_size = int(0.7 * len(dataset_list))\n",
    "val_size = int(0.2 * len(dataset_list))\n",
    "test_size = len(dataset_list) - train_size - val_size\n",
    "\n",
    "train_data = dataset_list[:train_size]\n",
    "val_data = dataset_list[train_size:train_size + val_size]\n",
    "test_data = dataset_list[train_size + val_size:]\n",
    "\n",
    "train = tf.data.Dataset.from_generator(lambda: iter(train_data), output_signature=(\n",
    "    tf.TensorSpec(shape=input_shape, dtype=tf.int32), tf.TensorSpec(shape=input_shape, dtype=tf.int32)))\n",
    "val = tf.data.Dataset.from_generator(lambda: iter(val_data), output_signature=(\n",
    "    tf.TensorSpec(shape=input_shape, dtype=tf.int32), tf.TensorSpec(shape=input_shape, dtype=tf.int32)))\n",
    "test = tf.data.Dataset.from_generator(lambda: iter(test_data), output_signature=(\n",
    "    tf.TensorSpec(shape=input_shape, dtype=tf.int32), tf.TensorSpec(shape=input_shape, dtype=tf.int32)))\n",
    "\n",
    "train = train.batch(64)\n",
    "val = val.batch(64)\n",
    "test = test.batch(64)"
   ]
  },
  {
   "cell_type": "code",
   "execution_count": 5,
   "id": "9135bdc8387d84f8",
   "metadata": {
    "ExecuteTime": {
     "end_time": "2024-11-17T10:54:59.207866Z",
     "start_time": "2024-11-17T10:54:59.162866Z"
    }
   },
   "outputs": [],
   "source": [
    "model = Sequential()\n",
    "\n",
    "model.add(Flatten(input_shape=input_shape))\n",
    "\n",
    "model.add(Dense(512, activation='relu'))\n",
    "\n",
    "model.add(Dense(input_shape[0] * input_shape[1], activation='sigmoid'))\n",
    "\n",
    "model.add(Reshape((input_shape[0], input_shape[1])))\n",
    "\n",
    "model.compile(optimizer='adam', loss='binary_crossentropy', metrics=['binary_accuracy'])\n",
    "\n",
    "# model.summary()"
   ]
  },
  {
   "cell_type": "code",
   "execution_count": 6,
   "id": "c6f2dbef0f491b20",
   "metadata": {
    "ExecuteTime": {
     "end_time": "2024-11-17T10:55:40.743998Z",
     "start_time": "2024-11-17T10:54:59.318175Z"
    }
   },
   "outputs": [
    {
     "name": "stdout",
     "output_type": "stream",
     "text": [
      "Epoch 1/10\n",
      "766/766 [==============================] - 9s 11ms/step - loss: 0.3115 - binary_accuracy: 0.8737 - val_loss: 0.2685 - val_binary_accuracy: 0.8920\n",
      "Epoch 2/10\n",
      "766/766 [==============================] - 8s 11ms/step - loss: 0.2609 - binary_accuracy: 0.8954 - val_loss: 0.2585 - val_binary_accuracy: 0.8959\n",
      "Epoch 3/10\n",
      "766/766 [==============================] - 8s 11ms/step - loss: 0.2535 - binary_accuracy: 0.8987 - val_loss: 0.2541 - val_binary_accuracy: 0.8982\n",
      "Epoch 4/10\n",
      "766/766 [==============================] - 8s 11ms/step - loss: 0.2488 - binary_accuracy: 0.9011 - val_loss: 0.2507 - val_binary_accuracy: 0.9001\n",
      "Epoch 5/10\n",
      "766/766 [==============================] - 8s 10ms/step - loss: 0.2450 - binary_accuracy: 0.9030 - val_loss: 0.2482 - val_binary_accuracy: 0.9016\n",
      "Epoch 6/10\n",
      "766/766 [==============================] - 8s 10ms/step - loss: 0.2420 - binary_accuracy: 0.9044 - val_loss: 0.2462 - val_binary_accuracy: 0.9026\n",
      "Epoch 7/10\n",
      "766/766 [==============================] - 8s 11ms/step - loss: 0.2395 - binary_accuracy: 0.9056 - val_loss: 0.2446 - val_binary_accuracy: 0.9035\n",
      "Epoch 8/10\n",
      "766/766 [==============================] - 8s 11ms/step - loss: 0.2375 - binary_accuracy: 0.9066 - val_loss: 0.2432 - val_binary_accuracy: 0.9043\n",
      "Epoch 9/10\n",
      "766/766 [==============================] - 8s 11ms/step - loss: 0.2357 - binary_accuracy: 0.9074 - val_loss: 0.2422 - val_binary_accuracy: 0.9048\n",
      "Epoch 10/10\n",
      "766/766 [==============================] - 8s 11ms/step - loss: 0.2341 - binary_accuracy: 0.9082 - val_loss: 0.2412 - val_binary_accuracy: 0.9054\n"
     ]
    }
   ],
   "source": [
    "hist = model.fit(train, epochs=10, validation_data=val, batch_size=64)"
   ]
  },
  {
   "cell_type": "code",
   "execution_count": 7,
   "id": "37b277e6",
   "metadata": {},
   "outputs": [
    {
     "data": {
      "image/png": "[encoded data removed]",
      "text/plain": [
       "<Figure size 640x480 with 1 Axes>"
      ]
     },
     "metadata": {},
     "output_type": "display_data"
    }
   ],
   "source": [
    "fig = plt.figure()\n",
    "plt.plot(hist.history['loss'], color='teal', label='loss')\n",
    "plt.plot(hist.history['val_loss'], color='orange', label='val_loss')\n",
    "fig.suptitle('Loss', fontsize=20)    \n",
    "plt.legend(loc=\"upper left\")\n",
    "plt.show()"
   ]
  },
  {
   "cell_type": "code",
   "execution_count": 8,
   "id": "1c31c581",
   "metadata": {},
   "outputs": [
    {
     "name": "stdout",
     "output_type": "stream",
     "text": [
      "110/110 [==============================] - 1s 8ms/step - loss: 0.2417 - binary_accuracy: 0.9052\n",
      "Loss: 0.2416553944349289\n",
      "Accuracy: 0.9052165150642395\n"
     ]
    }
   ],
   "source": [
    "loss, acc = model.evaluate(test)\n",
    "print(f\"Loss: {loss}\")\n",
    "print(f\"Accuracy: {acc}\")"
   ]
  },
  {
   "cell_type": "code",
   "execution_count": 9,
   "id": "1065957d",
   "metadata": {},
   "outputs": [
    {
     "name": "stdout",
     "output_type": "stream",
     "text": [
      "2/2 [==============================] - 0s 998us/step\n",
      "2/2 [==============================] - 0s 3ms/step\n",
      "2/2 [==============================] - 0s 3ms/step\n",
      "2/2 [==============================] - 0s 1ms/step\n",
      "2/2 [==============================] - 0s 2ms/step\n",
      "2/2 [==============================] - 0s 2ms/step\n",
      "2/2 [==============================] - 0s 1ms/step\n",
      "2/2 [==============================] - 0s 2ms/step\n",
      "2/2 [==============================] - 0s 2ms/step\n",
      "2/2 [==============================] - 0s 2ms/step\n",
      "2/2 [==============================] - 0s 2ms/step\n",
      "2/2 [==============================] - 0s 2ms/step\n",
      "2/2 [==============================] - 0s 2ms/step\n",
      "2/2 [==============================] - 0s 2ms/step\n",
      "2/2 [==============================] - 0s 2ms/step\n",
      "2/2 [==============================] - 0s 3ms/step\n",
      "2/2 [==============================] - 0s 2ms/step\n",
      "2/2 [==============================] - 0s 3ms/step\n",
      "2/2 [==============================] - 0s 2ms/step\n",
      "2/2 [==============================] - 0s 2ms/step\n",
      "2/2 [==============================] - 0s 2ms/step\n",
      "2/2 [==============================] - 0s 2ms/step\n",
      "2/2 [==============================] - 0s 2ms/step\n",
      "2/2 [==============================] - 0s 2ms/step\n",
      "2/2 [==============================] - 0s 2ms/step\n",
      "2/2 [==============================] - 0s 2ms/step\n",
      "2/2 [==============================] - 0s 3ms/step\n",
      "2/2 [==============================] - 0s 2ms/step\n",
      "2/2 [==============================] - 0s 2ms/step\n",
      "2/2 [==============================] - 0s 3ms/step\n",
      "2/2 [==============================] - 0s 999us/step\n",
      "2/2 [==============================] - 0s 2ms/step\n",
      "2/2 [==============================] - 0s 2ms/step\n",
      "2/2 [==============================] - 0s 2ms/step\n",
      "2/2 [==============================] - 0s 2ms/step\n",
      "2/2 [==============================] - 0s 2ms/step\n",
      "2/2 [==============================] - 0s 2ms/step\n",
      "2/2 [==============================] - 0s 2ms/step\n",
      "2/2 [==============================] - 0s 2ms/step\n",
      "2/2 [==============================] - 0s 2ms/step\n",
      "2/2 [==============================] - 0s 2ms/step\n",
      "2/2 [==============================] - 0s 2ms/step\n",
      "2/2 [==============================] - 0s 1000us/step\n",
      "2/2 [==============================] - 0s 2ms/step\n",
      "2/2 [==============================] - 0s 2ms/step\n",
      "2/2 [==============================] - 0s 2ms/step\n",
      "2/2 [==============================] - 0s 2ms/step\n",
      "2/2 [==============================] - 0s 2ms/step\n",
      "2/2 [==============================] - 0s 2ms/step\n",
      "2/2 [==============================] - 0s 2ms/step\n",
      "2/2 [==============================] - 0s 1000us/step\n",
      "2/2 [==============================] - 0s 3ms/step\n",
      "2/2 [==============================] - 0s 1ms/step\n",
      "2/2 [==============================] - 0s 2ms/step\n",
      "2/2 [==============================] - 0s 2ms/step\n",
      "2/2 [==============================] - 0s 3ms/step\n",
      "2/2 [==============================] - 0s 3ms/step\n",
      "2/2 [==============================] - 0s 2ms/step\n",
      "2/2 [==============================] - 0s 2ms/step\n",
      "2/2 [==============================] - 0s 2ms/step\n",
      "2/2 [==============================] - 0s 2ms/step\n",
      "2/2 [==============================] - 0s 2ms/step\n",
      "2/2 [==============================] - 0s 2ms/step\n",
      "2/2 [==============================] - 0s 2ms/step\n",
      "2/2 [==============================] - 0s 2ms/step\n",
      "2/2 [==============================] - 0s 3ms/step\n",
      "2/2 [==============================] - 0s 2ms/step\n",
      "2/2 [==============================] - 0s 2ms/step\n",
      "2/2 [==============================] - 0s 2ms/step\n",
      "2/2 [==============================] - 0s 2ms/step\n",
      "2/2 [==============================] - 0s 3ms/step\n",
      "2/2 [==============================] - 0s 1ms/step\n",
      "2/2 [==============================] - 0s 1ms/step\n",
      "2/2 [==============================] - 0s 2ms/step\n",
      "2/2 [==============================] - 0s 2ms/step\n",
      "2/2 [==============================] - 0s 2ms/step\n",
      "2/2 [==============================] - 0s 2ms/step\n",
      "2/2 [==============================] - 0s 2ms/step\n",
      "2/2 [==============================] - 0s 2ms/step\n",
      "2/2 [==============================] - 0s 2ms/step\n",
      "2/2 [==============================] - 0s 3ms/step\n",
      "2/2 [==============================] - 0s 3ms/step\n",
      "2/2 [==============================] - 0s 2ms/step\n",
      "2/2 [==============================] - 0s 2ms/step\n",
      "2/2 [==============================] - 0s 2ms/step\n",
      "2/2 [==============================] - 0s 2ms/step\n",
      "2/2 [==============================] - 0s 2ms/step\n",
      "2/2 [==============================] - 0s 2ms/step\n",
      "2/2 [==============================] - 0s 2ms/step\n",
      "2/2 [==============================] - 0s 2ms/step\n",
      "2/2 [==============================] - 0s 2ms/step\n",
      "2/2 [==============================] - 0s 4ms/step\n",
      "2/2 [==============================] - 0s 2ms/step\n",
      "2/2 [==============================] - 0s 997us/step\n",
      "2/2 [==============================] - 0s 2ms/step\n",
      "2/2 [==============================] - 0s 2ms/step\n",
      "2/2 [==============================] - 0s 1ms/step\n",
      "2/2 [==============================] - 0s 2ms/step\n",
      "2/2 [==============================] - 0s 2ms/step\n",
      "2/2 [==============================] - 0s 2ms/step\n",
      "2/2 [==============================] - 0s 2ms/step\n",
      "2/2 [==============================] - 0s 2ms/step\n",
      "2/2 [==============================] - 0s 1ms/step\n",
      "2/2 [==============================] - 0s 2ms/step\n",
      "2/2 [==============================] - 0s 2ms/step\n",
      "2/2 [==============================] - 0s 2ms/step\n",
      "2/2 [==============================] - 0s 2ms/step\n",
      "2/2 [==============================] - 0s 2ms/step\n",
      "2/2 [==============================] - 0s 3ms/step\n",
      "1/1 [==============================] - 0s 31ms/step\n",
      "Total number of actual mines: 70000\n",
      "Number of correctly predicted mines: 25759\n",
      "Accuracy in predicting mines when it is 75% sure: 36.80%\n"
     ]
    }
   ],
   "source": [
    "total_mines = 0\n",
    "correctly_predicted_mines = 0\n",
    "\n",
    "for boards, labels in test:\n",
    "    predictions = model.predict(boards)\n",
    "    predicted_classes = (predictions > 0.75).astype(int)\n",
    "    \n",
    "\n",
    "    for i in range(boards.shape[0]):\n",
    "        actual_mines = (labels[i] == 1)\n",
    "        predicted_mines = (predicted_classes[i] == 1)\n",
    "\n",
    "        total_mines += np.sum(actual_mines)\n",
    "        correctly_predicted_mines += np.sum(np.logical_and(actual_mines, predicted_mines))\n",
    "\n",
    "print(f\"Total number of actual mines: {total_mines}\")\n",
    "print(f\"Number of correctly predicted mines: {correctly_predicted_mines}\")\n",
    "accuracy = (correctly_predicted_mines / total_mines) * 100 if total_mines > 0 else 0\n",
    "print(f\"Accuracy in predicting mines when it is 75% sure: {accuracy:.2f}%\")"
   ]
  },
  {
   "cell_type": "code",
   "execution_count": 10,
   "id": "52dd576a227cfd87",
   "metadata": {
    "ExecuteTime": {
     "end_time": "2024-11-17T10:59:38.934429Z",
     "start_time": "2024-11-17T10:59:38.812918Z"
    }
   },
   "outputs": [
    {
     "name": "stdout",
     "output_type": "stream",
     "text": [
      "1/1 [==============================] - 0s 12ms/step\n"
     ]
    },
    {
     "data": {
      "image/png": "[encoded data removed]",
      "text/plain": [
       "<Figure size 600x600 with 2 Axes>"
      ]
     },
     "metadata": {},
     "output_type": "display_data"
    },
    {
     "name": "stdout",
     "output_type": "stream",
     "text": [
      "Input Board:\n",
      "U U U U U U U U\n",
      "U U U U U U U U\n",
      "U U U U U U U U\n",
      "U U U 3 3 2 2 1\n",
      "2 B B B 2 B 1 0\n",
      "1 2 3 2 2 1 1 0\n",
      "0 0 0 0 0 0 1 1\n",
      "0 0 0 0 0 0 1 B\n",
      "\n",
      "Labels:\n",
      "0 0 0 0 0 0 0 1\n",
      "0 0 0 0 0 1 0 0\n",
      "0 0 0 0 1 0 0 1\n",
      "1 0 0 0 0 0 0 0\n",
      "0 1 1 1 0 1 0 0\n",
      "0 0 0 0 0 0 0 0\n",
      "0 0 0 0 0 0 0 0\n",
      "0 0 0 0 0 0 0 1\n"
     ]
    }
   ],
   "source": [
    "def heat_map_board(model, board):\n",
    "    board = np.expand_dims(board, axis=0)\n",
    "    \n",
    "    prediction = model.predict(board)\n",
    "    predicted_probabilities = prediction[0]\n",
    "\n",
    "    plt.figure(figsize=(6, 6))\n",
    "    plt.title(f\"Board - Predicted Mine Probabilities\")\n",
    "    plt.imshow(predicted_probabilities, cmap='hot', interpolation='nearest')\n",
    "    plt.colorbar(label='Mine Probability')\n",
    "    plt.show()\n",
    "\n",
    "def map_cell_value(cell):\n",
    "    if cell == 0:\n",
    "        return 'U'\n",
    "    elif cell == 1:\n",
    "        return 'B'\n",
    "    else:\n",
    "        return str(cell - 2)\n",
    "    \n",
    "def process_board(board):\n",
    "    for row in board:\n",
    "        processed_row = []\n",
    "        for cell in row:\n",
    "            processed_row.append(map_cell_value(cell))\n",
    "        print(\" \".join(str(cell) for cell in processed_row))\n",
    "\n",
    "    \n",
    "def print_board(board, map=True):\n",
    "    if map:\n",
    "        board = process_board(board) \n",
    "    else:\n",
    "        for row in board:\n",
    "            print(\" \".join(str(cell) for cell in row))\n",
    "\n",
    "for board, labels in test.take(1):\n",
    "    board_np = board.numpy()[0]\n",
    "    labels_np = labels.numpy()[0]\n",
    "\n",
    "    heat_map_board(model, board_np)\n",
    "    \n",
    "    print(\"Input Board:\")\n",
    "    print_board(board_np)\n",
    "    \n",
    "    print(\"\\nLabels:\")\n",
    "    print_board(labels_np, map=False)"
   ]
  },
  {
   "cell_type": "code",
   "execution_count": 11,
   "id": "86428c0cca6883c3",
   "metadata": {
    "ExecuteTime": {
     "end_time": "2024-11-17T10:49:19.804862Z",
     "start_time": "2024-11-17T10:49:19.790862Z"
    }
   },
   "outputs": [],
   "source": [
    "model.save(f\"Nueral Network {board_size}.h5\")"
   ]
  },
  {
   "cell_type": "code",
   "execution_count": null,
   "id": "a57b45fc",
   "metadata": {},
   "outputs": [],
   "source": []
  }
 ],
 "metadata": {
  "kernelspec": {
   "display_name": "cudaPython310",
   "language": "python",
   "name": "python3"
  },
  "language_info": {
   "codemirror_mode": {
    "name": "ipython",
    "version": 3
   },
   "file_extension": ".py",
   "mimetype": "text/x-python",
   "name": "python",
   "nbconvert_exporter": "python",
   "pygments_lexer": "ipython3",
   "version": "3.10.14"
  }
 },
 "nbformat": 4,
 "nbformat_minor": 5
}
