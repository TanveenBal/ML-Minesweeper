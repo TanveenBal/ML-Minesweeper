{
 "cells": [
  {
   "metadata": {
    "ExecuteTime": {
     "end_time": "2024-11-17T03:27:07.078661Z",
     "start_time": "2024-11-17T03:27:04.393403Z"
    }
   },
   "cell_type": "code",
   "source": [
    "import numpy as np\n",
    "import tensorflow as tf\n",
    "from tensorflow.keras.models import Sequential\n",
    "from tensorflow.keras.layers import Dense, Flatten, Reshape\n",
    "import os\n",
    "import matplotlib.pyplot as plt"
   ],
   "id": "34d8b4e312434a02",
   "outputs": [],
   "execution_count": 1
  },
  {
   "metadata": {
    "ExecuteTime": {
     "end_time": "2024-11-17T03:27:07.157668Z",
     "start_time": "2024-11-17T03:27:07.091666Z"
    }
   },
   "cell_type": "code",
   "source": [
    "gpus = tf.config.list_physical_devices('GPU')\n",
    "\n",
    "if len(gpus) > 0:\n",
    "    print(\"TensorFlow is using the following GPU(s):\")\n",
    "    for gpu in gpus:\n",
    "        print(f\"- {gpu.name}\")\n",
    "else:\n",
    "    print(\"No GPUs detected. TensorFlow is running on CPU.\")"
   ],
   "id": "bb248a0847fe6597",
   "outputs": [
    {
     "name": "stdout",
     "output_type": "stream",
     "text": [
      "TensorFlow is using the following GPU(s):\n",
      "- /physical_device:GPU:0\n"
     ]
    }
   ],
   "execution_count": 2
  },
  {
   "metadata": {
    "ExecuteTime": {
     "end_time": "2024-11-17T03:57:06.490919Z",
     "start_time": "2024-11-17T03:50:43.507175Z"
    }
   },
   "cell_type": "code",
   "source": [
    "def load_file(board_file, labels_file):\n",
    "    with open(board_file, 'r') as f:\n",
    "        board = []\n",
    "        for line in f:\n",
    "            row = []\n",
    "            for cell in line.strip().split(\" \"):\n",
    "                if cell == '-':\n",
    "                    row.append(9)\n",
    "                elif cell == 'F':\n",
    "                    row.append(-1)\n",
    "                else:\n",
    "                    try:\n",
    "                        row.append(int(cell))\n",
    "                    except ValueError:\n",
    "                        continue\n",
    "            board.append(row)\n",
    "\n",
    "    board = np.array(board)\n",
    "\n",
    "    labels = []\n",
    "    with open(labels_file, 'r') as f:\n",
    "        for line in f:\n",
    "            row = []\n",
    "            for cell in line.strip().split(\" \"):\n",
    "                row.append(int(cell))\n",
    "            labels.append(row)\n",
    "\n",
    "    labels = np.array(labels)\n",
    "    return board, labels\n",
    "\n",
    "data_dir = \"data 8x8\"\n",
    "labels_dir = \"labels 8x8\"\n",
    "X = []\n",
    "y = []\n",
    "\n",
    "data_files = sorted(os.listdir(data_dir))\n",
    "label_files = sorted(os.listdir(labels_dir))\n",
    "\n",
    "if len(data_files) != len(label_files):\n",
    "    raise ValueError(\"The number of data files does not match the number of label files.\")\n",
    "\n",
    "for data_file, label_file in zip(data_files, label_files):\n",
    "    board, labels = load_file(f\"{data_dir}\\\\{data_file}\", f\"{labels_dir}\\\\{label_file}\")\n",
    "    X.append(board)\n",
    "    y.append(labels)\n",
    "\n",
    "X = np.array(X)\n",
    "y = np.array(y)\n",
    "print(X[0])\n",
    "print(y[0])"
   ],
   "id": "8a1dd8617db69d90",
   "outputs": [
    {
     "name": "stdout",
     "output_type": "stream",
     "text": [
      "[[ 9  9  9  9  9  9  9  9]\n",
      " [ 9  1  1  2  1  1  9  9]\n",
      " [ 9  1  0  0  0  1  9  9]\n",
      " [ 9  1  0  0  0  1  9  9]\n",
      " [ 9  3  1  1  0  1  9  9]\n",
      " [ 9  3 -1  3  2  2  9  9]\n",
      " [ 9  9  9  9  9  9  9  9]\n",
      " [ 9  9  9  9  9  9  9  9]]\n",
      "[[1 0 1 0 0 1 0 1]\n",
      " [0 0 0 0 0 0 0 0]\n",
      " [0 0 0 0 0 0 0 0]\n",
      " [1 1 1 0 0 0 0 0]\n",
      " [0 0 0 0 0 0 0 0]\n",
      " [0 0 0 0 0 0 0 0]\n",
      " [1 0 0 0 1 0 1 0]\n",
      " [0 0 0 0 0 0 0 0]]\n"
     ]
    }
   ],
   "execution_count": 38
  },
  {
   "metadata": {
    "ExecuteTime": {
     "end_time": "2024-11-17T03:57:06.569432Z",
     "start_time": "2024-11-17T03:57:06.564431Z"
    }
   },
   "cell_type": "code",
   "source": [
    "input_shape = (X.shape[1], X.shape[2])\n",
    "print(X.shape, y.shape)"
   ],
   "id": "993bc98caaeaa52a",
   "outputs": [
    {
     "name": "stdout",
     "output_type": "stream",
     "text": [
      "(69995, 8, 8) (69995, 8, 8)\n"
     ]
    }
   ],
   "execution_count": 39
  },
  {
   "metadata": {
    "ExecuteTime": {
     "end_time": "2024-11-17T04:00:08.602510Z",
     "start_time": "2024-11-17T04:00:08.558511Z"
    }
   },
   "cell_type": "code",
   "source": [
    "model = Sequential()\n",
    "\n",
    "model.add(Flatten(input_shape=input_shape))\n",
    "\n",
    "model.add(Dense(512, activation='relu'))\n",
    "model.add(Dense(256, activation='relu'))\n",
    "model.add(Dense(128, activation='relu'))\n",
    "\n",
    "model.add(Dense(input_shape[0] * input_shape[1], activation='sigmoid'))\n",
    "\n",
    "model.add(Reshape((input_shape[0], input_shape[1])))\n",
    "\n",
    "model.compile(optimizer='adam', loss='binary_crossentropy', metrics=['binary_accuracy'])\n",
    "\n",
    "# model.summary()"
   ],
   "id": "9135bdc8387d84f8",
   "outputs": [],
   "execution_count": 46
  },
  {
   "metadata": {
    "ExecuteTime": {
     "end_time": "2024-11-17T04:00:50.479950Z",
     "start_time": "2024-11-17T04:00:08.921025Z"
    }
   },
   "cell_type": "code",
   "source": "model.fit(X, y, epochs=10, batch_size=32, validation_split=0.2)",
   "id": "c6f2dbef0f491b20",
   "outputs": [
    {
     "name": "stdout",
     "output_type": "stream",
     "text": [
      "Epoch 1/10\n",
      "1750/1750 [==============================] - 5s 3ms/step - loss: 0.3638 - binary_accuracy: 0.8570 - val_loss: 0.3182 - val_binary_accuracy: 0.8736\n",
      "Epoch 2/10\n",
      "1750/1750 [==============================] - 4s 3ms/step - loss: 0.2966 - binary_accuracy: 0.8823 - val_loss: 0.2824 - val_binary_accuracy: 0.8890\n",
      "Epoch 3/10\n",
      "1750/1750 [==============================] - 4s 2ms/step - loss: 0.2690 - binary_accuracy: 0.8943 - val_loss: 0.2649 - val_binary_accuracy: 0.8962\n",
      "Epoch 4/10\n",
      "1750/1750 [==============================] - 4s 2ms/step - loss: 0.2522 - binary_accuracy: 0.9009 - val_loss: 0.2515 - val_binary_accuracy: 0.9014\n",
      "Epoch 5/10\n",
      "1750/1750 [==============================] - 4s 2ms/step - loss: 0.2422 - binary_accuracy: 0.9044 - val_loss: 0.2464 - val_binary_accuracy: 0.9032\n",
      "Epoch 6/10\n",
      "1750/1750 [==============================] - 4s 2ms/step - loss: 0.2366 - binary_accuracy: 0.9061 - val_loss: 0.2433 - val_binary_accuracy: 0.9039\n",
      "Epoch 7/10\n",
      "1750/1750 [==============================] - 4s 2ms/step - loss: 0.2333 - binary_accuracy: 0.9070 - val_loss: 0.2418 - val_binary_accuracy: 0.9039\n",
      "Epoch 8/10\n",
      "1750/1750 [==============================] - 4s 2ms/step - loss: 0.2308 - binary_accuracy: 0.9080 - val_loss: 0.2376 - val_binary_accuracy: 0.9052\n",
      "Epoch 9/10\n",
      "1750/1750 [==============================] - 4s 2ms/step - loss: 0.2286 - binary_accuracy: 0.9088 - val_loss: 0.2381 - val_binary_accuracy: 0.9055\n",
      "Epoch 10/10\n",
      "1750/1750 [==============================] - 4s 2ms/step - loss: 0.2268 - binary_accuracy: 0.9095 - val_loss: 0.2368 - val_binary_accuracy: 0.9064\n"
     ]
    },
    {
     "data": {
      "text/plain": [
       "<keras.callbacks.History at 0x22db3fc4a90>"
      ]
     },
     "execution_count": 47,
     "metadata": {},
     "output_type": "execute_result"
    }
   ],
   "execution_count": 47
  },
  {
   "metadata": {
    "ExecuteTime": {
     "end_time": "2024-11-17T04:00:50.620655Z",
     "start_time": "2024-11-17T04:00:50.483950Z"
    }
   },
   "cell_type": "code",
   "source": [
    "def test_model_on_board(model, board):\n",
    "    board = np.expand_dims(board, axis=0)\n",
    "    prediction = model.predict(board)\n",
    "    predicted_probabilities = prediction[0]\n",
    "    max_cord = (0, 0)\n",
    "    max_prediction = 0\n",
    "    for row, predicted_row in enumerate(predicted_probabilities):\n",
    "        for col, predicted_cell in enumerate(predicted_row):\n",
    "            if predicted_cell > max_prediction:\n",
    "                max_prediction = predicted_cell\n",
    "                max_cord = (row + 1, col + 1)\n",
    "    print(max_cord)\n",
    "    print(max_prediction)\n",
    "    plt.figure(figsize=(6, 6))\n",
    "    plt.title(f\"Board - Predicted Mine Probabilities\")\n",
    "    plt.imshow(predicted_probabilities, cmap='hot', interpolation='nearest')\n",
    "    plt.colorbar(label='Mine Probability')\n",
    "    plt.show()\n",
    "\n",
    "test_model_on_board(model, X[0])"
   ],
   "id": "52dd576a227cfd87",
   "outputs": [
    {
     "name": "stdout",
     "output_type": "stream",
     "text": [
      "1/1 [==============================] - 0s 32ms/step\n",
      "(6, 3)\n",
      "0.92480946\n"
     ]
    },
    {
     "data": {
      "text/plain": [
       "<Figure size 600x600 with 2 Axes>"
      ],
      "image/png": "[encoded data removed]"
     },
     "metadata": {},
     "output_type": "display_data"
    }
   ],
   "execution_count": 48
  },
  {
   "metadata": {
    "ExecuteTime": {
     "end_time": "2024-11-17T03:23:43.345900Z",
     "start_time": "2024-11-17T03:23:43.333902Z"
    }
   },
   "cell_type": "code",
   "source": "",
   "id": "86428c0cca6883c3",
   "outputs": [],
   "execution_count": null
  }
 ],
 "metadata": {
  "kernelspec": {
   "display_name": "py310",
   "language": "python",
   "name": "python3"
  },
  "language_info": {
   "codemirror_mode": {
    "name": "ipython",
    "version": 3
   },
   "file_extension": ".py",
   "mimetype": "text/x-python",
   "name": "python",
   "nbconvert_exporter": "python",
   "pygments_lexer": "ipython3",
   "version": "3.10.14"
  }
 },
 "nbformat": 4,
 "nbformat_minor": 5
}
